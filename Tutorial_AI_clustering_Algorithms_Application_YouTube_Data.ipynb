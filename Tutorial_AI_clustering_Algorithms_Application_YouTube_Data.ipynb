{
 "cells": [
  {
   "cell_type": "markdown",
   "id": "e6637f53",
   "metadata": {},
   "source": [
    "# Tutorial Unlocking the Secrets of Trending Videos: A Comprehensive Analysis Approach to YouTube Data"
   ]
  },
  {
   "cell_type": "markdown",
   "id": "1265a790",
   "metadata": {},
   "source": [
    "-------------------------------------------------------------\n",
    "Notebook created by Marcelo Amaral.\n",
    "Assisted by GPT, a language model developed by OpenAI. Aug 2023\n",
    "-------------------------------------------------------------"
   ]
  },
  {
   "cell_type": "markdown",
   "id": "c06863e9",
   "metadata": {},
   "source": [
    "In the dynamic world of YouTube, trending videos are like gold. They capture attention, drive engagement, and create cultural moments. But what makes a video trend? While the algorithm remains proprietary, we can analyze certain characteristics to decode patterns and preferences."
   ]
  },
  {
   "cell_type": "markdown",
   "id": "7c8d83b5",
   "metadata": {},
   "source": [
    "## Import necessary libraries"
   ]
  },
  {
   "cell_type": "code",
   "execution_count": 41,
   "id": "ab60eee2",
   "metadata": {},
   "outputs": [],
   "source": [
    "import numpy as np\n",
    "import pandas as pd\n",
    "from sklearn.preprocessing import StandardScaler\n",
    "from sklearn.cluster import KMeans\n",
    "import matplotlib.pyplot as plt\n",
    "import seaborn as sns\n",
    "from scipy.spatial import distance\n",
    "import re\n",
    "import nltk\n",
    "from nltk.corpus import stopwords\n",
    "from nltk.tokenize import word_tokenize\n",
    "from sklearn.feature_extraction.text import ENGLISH_STOP_WORDS\n",
    "from gensim.corpora import Dictionary\n",
    "from gensim.models.ldamodel import LdaModel\n",
    "from nltk.stem import WordNetLemmatizer\n",
    "import string"
   ]
  },
  {
   "cell_type": "markdown",
   "id": "67253274",
   "metadata": {},
   "source": [
    "## Loading and Segmenting YouTube Comments"
   ]
  },
  {
   "cell_type": "code",
   "execution_count": 5,
   "id": "633c789b",
   "metadata": {},
   "outputs": [
    {
     "name": "stdout",
     "output_type": "stream",
     "text": [
      "Index(['videoId', 'title', 'description', 'publishedAt', 'channelId',\n",
      "       'categoryId', 'category', 'viewCount', 'likeCount', 'commentCount',\n",
      "       'tags', 'channelTitle', 'thumbnails', 'isTrending', 'duration',\n",
      "       'dimension', 'definition', 'caption', 'licensedContent', 'projection',\n",
      "       'uploadStatus', 'privacyStatus', 'license', 'embeddable',\n",
      "       'publicStatsViewable', 'madeForKids', 'favoriteCount',\n",
      "       'topicCategories', 'viewCount_mean', 'viewCount_std', 'likeCount_mean',\n",
      "       'likeCount_std', 'commentCount_mean', 'commentCount_std',\n",
      "       'viewCount_to_avg_viewCount_ratio', 'likeCount_to_avg_likeCount_ratio',\n",
      "       'commentCount_to_avg_commentCount_ratio'],\n",
      "      dtype='object')\n"
     ]
    }
   ],
   "source": [
    "# Read the YT data\n",
    "xlsx_videos_name = 'data/YT_data_sample_video_enriched.xlsx'\n",
    "videos_df = pd.read_excel(xlsx_videos_name)\n",
    "print(videos_df.columns)"
   ]
  },
  {
   "cell_type": "code",
   "execution_count": 6,
   "id": "14364c12",
   "metadata": {},
   "outputs": [
    {
     "name": "stdout",
     "output_type": "stream",
     "text": [
      "Index(['channelId', 'channelTitle', 'description', 'publishedAt', 'videoCount',\n",
      "       'viewCount', 'subscriberCount', 'country', 'customUrl',\n",
      "       'topicCategories', 'madeForKids', 'keywords', 'hasVideoTrending',\n",
      "       'numberVideoTrending', 'viewCount_mean', 'viewCount_std',\n",
      "       'likeCount_mean', 'likeCount_std', 'commentCount_mean',\n",
      "       'commentCount_std'],\n",
      "      dtype='object')\n"
     ]
    }
   ],
   "source": [
    "# Read the YT data\n",
    "xlsx_channels_name = 'data/YT_data_sample_channel_larger.xlsx'\n",
    "channels_df = pd.read_excel(xlsx_channels_name)\n",
    "print(channels_df.columns)\n"
   ]
  },
  {
   "cell_type": "code",
   "execution_count": 7,
   "id": "7654762c",
   "metadata": {},
   "outputs": [
    {
     "name": "stdout",
     "output_type": "stream",
     "text": [
      "Correlation between subscriberCount and viewCount: 0.7374\n"
     ]
    }
   ],
   "source": [
    "# Compute the correlation\n",
    "correlation = channels_df['subscriberCount'].corr(channels_df['viewCount'])\n",
    "\n",
    "print(f\"Correlation between subscriberCount and viewCount: {correlation:.4f}\")\n"
   ]
  },
  {
   "cell_type": "code",
   "execution_count": 12,
   "id": "9ef37a3e",
   "metadata": {},
   "outputs": [
    {
     "name": "stderr",
     "output_type": "stream",
     "text": [
      "/home/mamaral/.local/lib/python3.8/site-packages/sklearn/cluster/_kmeans.py:1412: FutureWarning: The default value of `n_init` will change from 10 to 'auto' in 1.4. Set the value of `n_init` explicitly to suppress the warning\n",
      "  super()._check_params_vs_input(X, default_n_init=10)\n"
     ]
    }
   ],
   "source": [
    "\n",
    "# Select features for clustering\n",
    "features = ['viewCount', 'likeCount', 'commentCount']\n",
    "X = videos_df[features]\n",
    "\n",
    "# Normalize the data\n",
    "scaler = StandardScaler()\n",
    "X_scaled = scaler.fit_transform(X)\n",
    "\n",
    "# Perform k-means clustering\n",
    "kmeans = KMeans(n_clusters=5) # You can choose a different number of clusters\n",
    "videos_df['cluster'] = kmeans.fit_predict(X_scaled)\n"
   ]
  },
  {
   "cell_type": "code",
   "execution_count": 13,
   "id": "5f318560",
   "metadata": {},
   "outputs": [],
   "source": [
    "# Merge video and channel data on channelId\n",
    "merged_data = pd.merge(videos_df, channels_df, on='channelId')\n",
    "\n",
    "# Perform correlation analysis (example using Pearson correlation)\n",
    "correlation = merged_data[['cluster', 'viewCount_y']].corr(method='pearson')\n"
   ]
  },
  {
   "cell_type": "code",
   "execution_count": 16,
   "id": "437e4b8e",
   "metadata": {},
   "outputs": [
    {
     "data": {
      "image/png": "[encoded data removed]",
      "text/plain": [
       "<Figure size 640x480 with 1 Axes>"
      ]
     },
     "metadata": {},
     "output_type": "display_data"
    }
   ],
   "source": [
    "# Plot clusters using seaborn\n",
    "sns.scatterplot(data=videos_df, x='viewCount', y='likeCount', hue='cluster', palette='viridis')\n",
    "plt.title('Video Clusters')\n",
    "plt.xlabel('View Count')\n",
    "plt.ylabel('Like Count')\n",
    "plt.show()\n"
   ]
  },
  {
   "cell_type": "code",
   "execution_count": 17,
   "id": "0ca66fd1",
   "metadata": {},
   "outputs": [
    {
     "name": "stdout",
     "output_type": "stream",
     "text": [
      "            viewCount      likeCount  commentCount\n",
      "cluster                                           \n",
      "0        9.876243e+03     208.542373     34.412429\n",
      "1        4.244127e+06  103711.000000  15935.000000\n",
      "2        2.052430e+06   51987.000000   6288.000000\n",
      "3        1.677570e+06   23723.000000   3928.000000\n",
      "4        7.566380e+05   14599.500000   2716.000000\n"
     ]
    }
   ],
   "source": [
    "cluster_summary = videos_df.groupby('cluster')[features].mean()\n",
    "print(cluster_summary)\n"
   ]
  },
  {
   "cell_type": "code",
   "execution_count": 18,
   "id": "4d94fc77",
   "metadata": {},
   "outputs": [
    {
     "data": {
      "image/png": "[encoded data removed]",
      "text/plain": [
       "<Figure size 640x480 with 1 Axes>"
      ]
     },
     "metadata": {},
     "output_type": "display_data"
    }
   ],
   "source": [
    "sns.barplot(x='cluster', y='viewCount_y', data=merged_data, estimator=np.mean)\n",
    "plt.title('Average Channel Views by Cluster')\n",
    "plt.xlabel('Cluster')\n",
    "plt.ylabel('Channel Views')\n",
    "plt.show()\n"
   ]
  },
  {
   "cell_type": "code",
   "execution_count": 19,
   "id": "4fe81d37",
   "metadata": {},
   "outputs": [
    {
     "name": "stdout",
     "output_type": "stream",
     "text": [
      "      viewCount      likeCount  commentCount\n",
      "0  9.876243e+03     208.542373     34.412429\n",
      "1  4.244127e+06  103711.000000  15935.000000\n",
      "2  2.052430e+06   51987.000000   6288.000000\n",
      "3  1.677570e+06   23723.000000   3928.000000\n",
      "4  7.566380e+05   14599.500000   2716.000000\n"
     ]
    }
   ],
   "source": [
    "centroids = kmeans.cluster_centers_\n",
    "original_centroids = scaler.inverse_transform(centroids)\n",
    "original_centroids_df = pd.DataFrame(original_centroids, columns=features)\n",
    "print(original_centroids_df)\n"
   ]
  },
  {
   "cell_type": "code",
   "execution_count": 22,
   "id": "d67f2155",
   "metadata": {},
   "outputs": [
    {
     "name": "stdout",
     "output_type": "stream",
     "text": [
      "Cluster 0 Representatives:\n",
      "title           Garrett Lisi's Elementary Particle Explorer\n",
      "viewCount                                              8722\n",
      "likeCount                                               263\n",
      "commentCount                                             30\n",
      "Name: 114, dtype: object\n",
      "title           Trailer for Klee Irwin's \"Are We In A Simulati...\n",
      "viewCount                                                   10679\n",
      "likeCount                                                     230\n",
      "commentCount                                                   25\n",
      "Name: 3, dtype: object\n",
      "title           Fang Fang - The Quasicrystalline Spin Network\n",
      "viewCount                                               10900\n",
      "likeCount                                                 165\n",
      "commentCount                                               25\n",
      "Name: 145, dtype: object\n",
      "title           Dr. Moninder Singh Modgil - The Geometry of Time\n",
      "viewCount                                                   9441\n",
      "likeCount                                                    152\n",
      "commentCount                                                  43\n",
      "Name: 113, dtype: object\n",
      "title           Klee Irwin - Bending the Second Law\n",
      "viewCount                                      7341\n",
      "likeCount                                       221\n",
      "commentCount                                     44\n",
      "Name: 48, dtype: object\n",
      "title           Klee Irwin - Emergence Theory and General Rela...\n",
      "viewCount                                                   13410\n",
      "likeCount                                                     181\n",
      "commentCount                                                   38\n",
      "Name: 90, dtype: object\n",
      "title           What Is E8 Good For? #PaCE1\n",
      "viewCount                             12156\n",
      "likeCount                               251\n",
      "commentCount                             45\n",
      "Name: 38, dtype: object\n",
      "title           Klee Irwin - Unification of Physics and Number...\n",
      "viewCount                                                    9070\n",
      "likeCount                                                     188\n",
      "commentCount                                                   49\n",
      "Name: 67, dtype: object\n",
      "title           Klee Irwin - Codes to Simple Programs in the S...\n",
      "viewCount                                                    8423\n",
      "likeCount                                                     245\n",
      "commentCount                                                   48\n",
      "Name: 41, dtype: object\n",
      "title           Klee Irwin - The Principle of Efficient Langua...\n",
      "viewCount                                                   11848\n",
      "likeCount                                                     228\n",
      "commentCount                                                   48\n",
      "Name: 96, dtype: object\n",
      "title           Raymond Aschheim - The Golden Ratio (Phi) Emer...\n",
      "viewCount                                                   12551\n",
      "likeCount                                                     161\n",
      "commentCount                                                   24\n",
      "Name: 152, dtype: object\n",
      "title           Russ Gries & Raymond Aschheim - 3D Printing th...\n",
      "viewCount                                                   13191\n",
      "likeCount                                                     281\n",
      "commentCount                                                   31\n",
      "Name: 151, dtype: object\n",
      "title           Tony Smith - E8 Physics from the Pyramids to t...\n",
      "viewCount                                                   14667\n",
      "likeCount                                                     235\n",
      "commentCount                                                   36\n",
      "Name: 85, dtype: object\n",
      "title           Quantum Chat 7: Dark Matter, E8 Physics, Fermi...\n",
      "viewCount                                                    8764\n",
      "likeCount                                                     106\n",
      "commentCount                                                   26\n",
      "Name: 120, dtype: object\n",
      "title           Quantum Chat 9: Celebration\n",
      "viewCount                              9086\n",
      "likeCount                               148\n",
      "commentCount                             19\n",
      "Name: 101, dtype: object\n",
      "title           Michael Rios - Darkside of the Rainbow: E8 and...\n",
      "viewCount                                                    6109\n",
      "likeCount                                                     135\n",
      "commentCount                                                   27\n",
      "Name: 78, dtype: object\n",
      "title           Klee Irwin  - Quantum Clocks (Part 1 of 3)\n",
      "viewCount                                             7688\n",
      "likeCount                                              156\n",
      "commentCount                                            19\n",
      "Name: 69, dtype: object\n",
      "title           Quantum Chat 1: Behind the Scenes\n",
      "viewCount                                    6752\n",
      "likeCount                                     117\n",
      "commentCount                                   26\n",
      "Name: 137, dtype: object\n",
      "title           Generalized Penrose Tilings\n",
      "viewCount                              7410\n",
      "likeCount                               160\n",
      "commentCount                             18\n",
      "Name: 158, dtype: object\n",
      "title           4D Geometry Projected to 3D\n",
      "viewCount                             15319\n",
      "likeCount                               246\n",
      "commentCount                             32\n",
      "Name: 100, dtype: object\n",
      "\n",
      "\n",
      "Cluster 1 Representatives:\n",
      "title           What Is Reality? [Official Film]\n",
      "viewCount                                4244127\n",
      "likeCount                                 103711\n",
      "commentCount                               15935\n",
      "Name: 163, dtype: object\n",
      "title           Hacking Reality [Official Film]\n",
      "viewCount                               2052430\n",
      "likeCount                                 51987\n",
      "commentCount                               6288\n",
      "Name: 82, dtype: object\n",
      "title           Klee Irwin - Scientific Clues That We Are Livi...\n",
      "viewCount                                                 1677570\n",
      "likeCount                                                   23723\n",
      "commentCount                                                 3928\n",
      "Name: 181, dtype: object\n",
      "title           Emergence Theory: A Layperson's Guide\n",
      "viewCount                                      657418\n",
      "likeCount                                       15733\n",
      "commentCount                                     3713\n",
      "Name: 121, dtype: object\n",
      "title           Klee Irwin - Are We In A Simulation? - Full Se...\n",
      "viewCount                                                  855858\n",
      "likeCount                                                   13466\n",
      "commentCount                                                 1719\n",
      "Name: 9, dtype: object\n",
      "title           Klee Irwin - Is Reality Code Theoretic?\n",
      "viewCount                                        224471\n",
      "likeCount                                          4510\n",
      "commentCount                                        978\n",
      "Name: 159, dtype: object\n",
      "title           Klee Irwin  - Are We in a Simulation? - Part 4...\n",
      "viewCount                                                  104908\n",
      "likeCount                                                    2123\n",
      "commentCount                                                  383\n",
      "Name: 34, dtype: object\n",
      "title           What is Reality? Q&A with David Jakubovic and ...\n",
      "viewCount                                                   37066\n",
      "likeCount                                                    1346\n",
      "commentCount                                                  356\n",
      "Name: 81, dtype: object\n",
      "title           Jack Sarfatti - The Post-Quantum Mechanics of ...\n",
      "viewCount                                                   32750\n",
      "likeCount                                                     658\n",
      "commentCount                                                  420\n",
      "Name: 140, dtype: object\n",
      "title           Klee Irwin - Quantum Gravity Research Overview\n",
      "viewCount                                                78245\n",
      "likeCount                                                  837\n",
      "commentCount                                               189\n",
      "Name: 149, dtype: object\n",
      "title           Klee Irwin - Are we in a Simulation? - Part 1 ...\n",
      "viewCount                                                   49861\n",
      "likeCount                                                    1645\n",
      "commentCount                                                  151\n",
      "Name: 39, dtype: object\n",
      "title           Dugan Hammock - Visualizing a Hypothetical Pla...\n",
      "viewCount                                                   65375\n",
      "likeCount                                                    1158\n",
      "commentCount                                                  134\n",
      "Name: 154, dtype: object\n",
      "title           Quasicrystals Vs Crystals\n",
      "viewCount                           70486\n",
      "likeCount                            1429\n",
      "commentCount                           75\n",
      "Name: 156, dtype: object\n",
      "title           Klee Irwin - Why Use an 8-Dimensional Shape to...\n",
      "viewCount                                                   48316\n",
      "likeCount                                                    1080\n",
      "commentCount                                                  162\n",
      "Name: 110, dtype: object\n",
      "title           Klee Irwin - Emergence Theory Overview - Part ...\n",
      "viewCount                                                   48112\n",
      "likeCount                                                    1140\n",
      "commentCount                                                  110\n",
      "Name: 56, dtype: object\n",
      "title           Klee Irwin - Are we in a Simulation? - Part 2 ...\n",
      "viewCount                                                   36893\n",
      "likeCount                                                     989\n",
      "commentCount                                                  133\n",
      "Name: 37, dtype: object\n",
      "title           Klee Irwin - Are We in a Simulation? - Part 5 ...\n",
      "viewCount                                                   27956\n",
      "likeCount                                                     790\n",
      "commentCount                                                  125\n",
      "Name: 33, dtype: object\n",
      "title           Klee Irwin  - Are We in a Simulation? -  Part ...\n",
      "viewCount                                                   38473\n",
      "likeCount                                                     870\n",
      "commentCount                                                   74\n",
      "Name: 36, dtype: object\n",
      "title           Klee Irwin - The Code that Animates Reality\n",
      "viewCount                                             32227\n",
      "likeCount                                               608\n",
      "commentCount                                            104\n",
      "Name: 86, dtype: object\n",
      "title           Klee Irwin - The Quasicrystalline Nature of Co...\n",
      "viewCount                                                   25117\n",
      "likeCount                                                     740\n",
      "commentCount                                                   95\n",
      "Name: 176, dtype: object\n",
      "\n",
      "\n",
      "Cluster 2 Representatives:\n",
      "title           Hacking Reality [Official Film]\n",
      "viewCount                               2052430\n",
      "likeCount                                 51987\n",
      "commentCount                               6288\n",
      "Name: 82, dtype: object\n",
      "title           Klee Irwin - Scientific Clues That We Are Livi...\n",
      "viewCount                                                 1677570\n",
      "likeCount                                                   23723\n",
      "commentCount                                                 3928\n",
      "Name: 181, dtype: object\n",
      "title           Emergence Theory: A Layperson's Guide\n",
      "viewCount                                      657418\n",
      "likeCount                                       15733\n",
      "commentCount                                     3713\n",
      "Name: 121, dtype: object\n",
      "title           Klee Irwin - Are We In A Simulation? - Full Se...\n",
      "viewCount                                                  855858\n",
      "likeCount                                                   13466\n",
      "commentCount                                                 1719\n",
      "Name: 9, dtype: object\n",
      "title           Klee Irwin - Is Reality Code Theoretic?\n",
      "viewCount                                        224471\n",
      "likeCount                                          4510\n",
      "commentCount                                        978\n",
      "Name: 159, dtype: object\n",
      "title           Klee Irwin  - Are We in a Simulation? - Part 4...\n",
      "viewCount                                                  104908\n",
      "likeCount                                                    2123\n",
      "commentCount                                                  383\n",
      "Name: 34, dtype: object\n",
      "title           What is Reality? Q&A with David Jakubovic and ...\n",
      "viewCount                                                   37066\n",
      "likeCount                                                    1346\n",
      "commentCount                                                  356\n",
      "Name: 81, dtype: object\n",
      "title           Jack Sarfatti - The Post-Quantum Mechanics of ...\n",
      "viewCount                                                   32750\n",
      "likeCount                                                     658\n",
      "commentCount                                                  420\n",
      "Name: 140, dtype: object\n",
      "title           Klee Irwin - Quantum Gravity Research Overview\n",
      "viewCount                                                78245\n",
      "likeCount                                                  837\n",
      "commentCount                                               189\n",
      "Name: 149, dtype: object\n",
      "title           Klee Irwin - Are we in a Simulation? - Part 1 ...\n",
      "viewCount                                                   49861\n",
      "likeCount                                                    1645\n",
      "commentCount                                                  151\n",
      "Name: 39, dtype: object\n",
      "title           Quasicrystals Vs Crystals\n",
      "viewCount                           70486\n",
      "likeCount                            1429\n",
      "commentCount                           75\n",
      "Name: 156, dtype: object\n",
      "title           Dugan Hammock - Visualizing a Hypothetical Pla...\n",
      "viewCount                                                   65375\n",
      "likeCount                                                    1158\n",
      "commentCount                                                  134\n",
      "Name: 154, dtype: object\n",
      "title           Klee Irwin - Why Use an 8-Dimensional Shape to...\n",
      "viewCount                                                   48316\n",
      "likeCount                                                    1080\n",
      "commentCount                                                  162\n",
      "Name: 110, dtype: object\n",
      "title           Klee Irwin - Emergence Theory Overview - Part ...\n",
      "viewCount                                                   48112\n",
      "likeCount                                                    1140\n",
      "commentCount                                                  110\n",
      "Name: 56, dtype: object\n",
      "title           Klee Irwin - Are we in a Simulation? - Part 2 ...\n",
      "viewCount                                                   36893\n",
      "likeCount                                                     989\n",
      "commentCount                                                  133\n",
      "Name: 37, dtype: object\n",
      "title           Klee Irwin  - Are We in a Simulation? -  Part ...\n",
      "viewCount                                                   38473\n",
      "likeCount                                                     870\n",
      "commentCount                                                   74\n",
      "Name: 36, dtype: object\n",
      "title           Klee Irwin - Are We in a Simulation? - Part 5 ...\n",
      "viewCount                                                   27956\n",
      "likeCount                                                     790\n",
      "commentCount                                                  125\n",
      "Name: 33, dtype: object\n",
      "title           Klee Irwin - The Code that Animates Reality\n",
      "viewCount                                             32227\n",
      "likeCount                                               608\n",
      "commentCount                                            104\n",
      "Name: 86, dtype: object\n",
      "title           Klee Irwin - The Quasicrystalline Nature of Co...\n",
      "viewCount                                                   25117\n",
      "likeCount                                                     740\n",
      "commentCount                                                   95\n",
      "Name: 176, dtype: object\n",
      "title           Klee Irwin - Are We in a Simulation? - Part 3B...\n",
      "viewCount                                                   27429\n",
      "likeCount                                                     730\n",
      "commentCount                                                   62\n",
      "Name: 35, dtype: object\n",
      "\n",
      "\n",
      "Cluster 3 Representatives:\n",
      "title           Klee Irwin - Scientific Clues That We Are Livi...\n",
      "viewCount                                                 1677570\n",
      "likeCount                                                   23723\n",
      "commentCount                                                 3928\n",
      "Name: 181, dtype: object\n",
      "title           Emergence Theory: A Layperson's Guide\n",
      "viewCount                                      657418\n",
      "likeCount                                       15733\n",
      "commentCount                                     3713\n",
      "Name: 121, dtype: object\n",
      "title           Klee Irwin - Are We In A Simulation? - Full Se...\n",
      "viewCount                                                  855858\n",
      "likeCount                                                   13466\n",
      "commentCount                                                 1719\n",
      "Name: 9, dtype: object\n",
      "title           Hacking Reality [Official Film]\n",
      "viewCount                               2052430\n",
      "likeCount                                 51987\n",
      "commentCount                               6288\n",
      "Name: 82, dtype: object\n",
      "title           Klee Irwin - Is Reality Code Theoretic?\n",
      "viewCount                                        224471\n",
      "likeCount                                          4510\n",
      "commentCount                                        978\n",
      "Name: 159, dtype: object\n",
      "title           Klee Irwin  - Are We in a Simulation? - Part 4...\n",
      "viewCount                                                  104908\n",
      "likeCount                                                    2123\n",
      "commentCount                                                  383\n",
      "Name: 34, dtype: object\n",
      "title           What is Reality? Q&A with David Jakubovic and ...\n",
      "viewCount                                                   37066\n",
      "likeCount                                                    1346\n",
      "commentCount                                                  356\n",
      "Name: 81, dtype: object\n",
      "title           Klee Irwin - Quantum Gravity Research Overview\n",
      "viewCount                                                78245\n",
      "likeCount                                                  837\n",
      "commentCount                                               189\n",
      "Name: 149, dtype: object\n",
      "title           Jack Sarfatti - The Post-Quantum Mechanics of ...\n",
      "viewCount                                                   32750\n",
      "likeCount                                                     658\n",
      "commentCount                                                  420\n",
      "Name: 140, dtype: object\n",
      "title           Quasicrystals Vs Crystals\n",
      "viewCount                           70486\n",
      "likeCount                            1429\n",
      "commentCount                           75\n",
      "Name: 156, dtype: object\n",
      "title           Dugan Hammock - Visualizing a Hypothetical Pla...\n",
      "viewCount                                                   65375\n",
      "likeCount                                                    1158\n",
      "commentCount                                                  134\n",
      "Name: 154, dtype: object\n",
      "title           Klee Irwin - Are we in a Simulation? - Part 1 ...\n",
      "viewCount                                                   49861\n",
      "likeCount                                                    1645\n",
      "commentCount                                                  151\n",
      "Name: 39, dtype: object\n",
      "title           Klee Irwin - Why Use an 8-Dimensional Shape to...\n",
      "viewCount                                                   48316\n",
      "likeCount                                                    1080\n",
      "commentCount                                                  162\n",
      "Name: 110, dtype: object\n",
      "title           Klee Irwin - Emergence Theory Overview - Part ...\n",
      "viewCount                                                   48112\n",
      "likeCount                                                    1140\n",
      "commentCount                                                  110\n",
      "Name: 56, dtype: object\n",
      "title           Klee Irwin - Are we in a Simulation? - Part 2 ...\n",
      "viewCount                                                   36893\n",
      "likeCount                                                     989\n",
      "commentCount                                                  133\n",
      "Name: 37, dtype: object\n",
      "title           Klee Irwin  - Are We in a Simulation? -  Part ...\n",
      "viewCount                                                   38473\n",
      "likeCount                                                     870\n",
      "commentCount                                                   74\n",
      "Name: 36, dtype: object\n",
      "title           Klee Irwin - Are We in a Simulation? - Part 5 ...\n",
      "viewCount                                                   27956\n",
      "likeCount                                                     790\n",
      "commentCount                                                  125\n",
      "Name: 33, dtype: object\n",
      "title           Klee Irwin - The Code that Animates Reality\n",
      "viewCount                                             32227\n",
      "likeCount                                               608\n",
      "commentCount                                            104\n",
      "Name: 86, dtype: object\n",
      "title           Klee Irwin - The Quasicrystalline Nature of Co...\n",
      "viewCount                                                   25117\n",
      "likeCount                                                     740\n",
      "commentCount                                                   95\n",
      "Name: 176, dtype: object\n",
      "title           Klee Irwin - Are We in a Simulation? - Part 3B...\n",
      "viewCount                                                   27429\n",
      "likeCount                                                     730\n",
      "commentCount                                                   62\n",
      "Name: 35, dtype: object\n",
      "\n",
      "\n",
      "Cluster 4 Representatives:\n",
      "title           Emergence Theory: A Layperson's Guide\n",
      "viewCount                                      657418\n",
      "likeCount                                       15733\n",
      "commentCount                                     3713\n",
      "Name: 121, dtype: object\n",
      "title           Klee Irwin - Are We In A Simulation? - Full Se...\n",
      "viewCount                                                  855858\n",
      "likeCount                                                   13466\n",
      "commentCount                                                 1719\n",
      "Name: 9, dtype: object\n",
      "title           Klee Irwin - Is Reality Code Theoretic?\n",
      "viewCount                                        224471\n",
      "likeCount                                          4510\n",
      "commentCount                                        978\n",
      "Name: 159, dtype: object\n",
      "title           Klee Irwin - Scientific Clues That We Are Livi...\n",
      "viewCount                                                 1677570\n",
      "likeCount                                                   23723\n",
      "commentCount                                                 3928\n",
      "Name: 181, dtype: object\n",
      "title           Klee Irwin  - Are We in a Simulation? - Part 4...\n",
      "viewCount                                                  104908\n",
      "likeCount                                                    2123\n",
      "commentCount                                                  383\n",
      "Name: 34, dtype: object\n",
      "title           What is Reality? Q&A with David Jakubovic and ...\n",
      "viewCount                                                   37066\n",
      "likeCount                                                    1346\n",
      "commentCount                                                  356\n",
      "Name: 81, dtype: object\n",
      "title           Jack Sarfatti - The Post-Quantum Mechanics of ...\n",
      "viewCount                                                   32750\n",
      "likeCount                                                     658\n",
      "commentCount                                                  420\n",
      "Name: 140, dtype: object\n",
      "title           Klee Irwin - Quantum Gravity Research Overview\n",
      "viewCount                                                78245\n",
      "likeCount                                                  837\n",
      "commentCount                                               189\n",
      "Name: 149, dtype: object\n",
      "title           Klee Irwin - Are we in a Simulation? - Part 1 ...\n",
      "viewCount                                                   49861\n",
      "likeCount                                                    1645\n",
      "commentCount                                                  151\n",
      "Name: 39, dtype: object\n",
      "title           Dugan Hammock - Visualizing a Hypothetical Pla...\n",
      "viewCount                                                   65375\n",
      "likeCount                                                    1158\n",
      "commentCount                                                  134\n",
      "Name: 154, dtype: object\n",
      "title           Quasicrystals Vs Crystals\n",
      "viewCount                           70486\n",
      "likeCount                            1429\n",
      "commentCount                           75\n",
      "Name: 156, dtype: object\n",
      "title           Klee Irwin - Why Use an 8-Dimensional Shape to...\n",
      "viewCount                                                   48316\n",
      "likeCount                                                    1080\n",
      "commentCount                                                  162\n",
      "Name: 110, dtype: object\n",
      "title           Klee Irwin - Emergence Theory Overview - Part ...\n",
      "viewCount                                                   48112\n",
      "likeCount                                                    1140\n",
      "commentCount                                                  110\n",
      "Name: 56, dtype: object\n",
      "title           Klee Irwin - Are we in a Simulation? - Part 2 ...\n",
      "viewCount                                                   36893\n",
      "likeCount                                                     989\n",
      "commentCount                                                  133\n",
      "Name: 37, dtype: object\n",
      "title           Klee Irwin - Are We in a Simulation? - Part 5 ...\n",
      "viewCount                                                   27956\n",
      "likeCount                                                     790\n",
      "commentCount                                                  125\n",
      "Name: 33, dtype: object\n",
      "title           Klee Irwin  - Are We in a Simulation? -  Part ...\n",
      "viewCount                                                   38473\n",
      "likeCount                                                     870\n",
      "commentCount                                                   74\n",
      "Name: 36, dtype: object\n",
      "title           Klee Irwin - The Code that Animates Reality\n",
      "viewCount                                             32227\n",
      "likeCount                                               608\n",
      "commentCount                                            104\n",
      "Name: 86, dtype: object\n",
      "title           Klee Irwin - The Quasicrystalline Nature of Co...\n",
      "viewCount                                                   25117\n",
      "likeCount                                                     740\n",
      "commentCount                                                   95\n",
      "Name: 176, dtype: object\n",
      "title           Klee Irwin - Are We in a Simulation? - Part 3B...\n",
      "viewCount                                                   27429\n",
      "likeCount                                                     730\n",
      "commentCount                                                   62\n",
      "Name: 35, dtype: object\n",
      "title           Klee Irwin - Are We in a Simulation? - Part 7 ...\n",
      "viewCount                                                   19924\n",
      "likeCount                                                     517\n",
      "commentCount                                                   50\n",
      "Name: 16, dtype: object\n",
      "\n",
      "\n"
     ]
    }
   ],
   "source": [
    "# Calculate the distance from each video to each centroid\n",
    "distances_to_centroids = distance.cdist(X_scaled, kmeans.cluster_centers_, 'euclidean')\n",
    "\n",
    "# Get the indices of the 5 closest videos to each centroid\n",
    "closest_videos_idx = np.argsort(distances_to_centroids, axis=0)[:20]\n",
    "\n",
    "# Print representative videos\n",
    "for cluster in range(kmeans.n_clusters):\n",
    "    print(f\"Cluster {cluster} Representatives:\")\n",
    "    for idx in closest_videos_idx[:, cluster]:\n",
    "        representative_video = videos_df.loc[idx]\n",
    "        print(representative_video[['title', 'viewCount', 'likeCount', 'commentCount']])\n",
    "    print(\"\\n\")\n"
   ]
  },
  {
   "cell_type": "code",
   "execution_count": 23,
   "id": "3caaf8d3",
   "metadata": {},
   "outputs": [],
   "source": [
    "merged_data = pd.merge(videos_df, channels_df, on='channelId')"
   ]
  },
  {
   "cell_type": "code",
   "execution_count": 24,
   "id": "b6e8cccf",
   "metadata": {},
   "outputs": [],
   "source": [
    "cluster_counts = merged_data[merged_data['cluster'].isin([2, 3])].groupby('channelId')['videoId'].count().reset_index(name='cluster_2_3_count')\n"
   ]
  },
  {
   "cell_type": "code",
   "execution_count": 25,
   "id": "65a65aed",
   "metadata": {},
   "outputs": [],
   "source": [
    "final_data = pd.merge(channels_df, cluster_counts, on='channelId', how='left')\n",
    "final_data['cluster_2_3_count'] = final_data['cluster_2_3_count'].fillna(0) # Fill missing values with 0\n"
   ]
  },
  {
   "cell_type": "code",
   "execution_count": 26,
   "id": "2b1330fe",
   "metadata": {},
   "outputs": [
    {
     "name": "stdout",
     "output_type": "stream",
     "text": [
      "                   cluster_2_3_count  viewCount\n",
      "cluster_2_3_count           1.000000  -0.018158\n",
      "viewCount                  -0.018158   1.000000\n"
     ]
    }
   ],
   "source": [
    "correlation_cluster_2_3 = final_data[['cluster_2_3_count', 'viewCount']].corr(method='pearson')\n",
    "print(correlation_cluster_2_3)\n"
   ]
  },
  {
   "cell_type": "code",
   "execution_count": 27,
   "id": "b0cfb2f3",
   "metadata": {},
   "outputs": [
    {
     "data": {
      "image/png": "[encoded data removed]",
      "text/plain": [
       "<Figure size 640x480 with 1 Axes>"
      ]
     },
     "metadata": {},
     "output_type": "display_data"
    }
   ],
   "source": [
    "sns.scatterplot(data=final_data, x='cluster_2_3_count', y='viewCount')\n",
    "plt.title('Channel Views vs. Number of Videos in Clusters 2 & 3')\n",
    "plt.xlabel('Number of Videos in Clusters 2 & 3')\n",
    "plt.ylabel('Channel Views')\n",
    "plt.show()\n"
   ]
  },
  {
   "cell_type": "markdown",
   "id": "4f1c4b46",
   "metadata": {},
   "source": [
    "# Apendix - more analysis"
   ]
  },
  {
   "cell_type": "markdown",
   "id": "c6be9a29",
   "metadata": {},
   "source": [
    "Analyzing the common characteristics of trending videos can provide insights into what makes a video likely to trend, which can be beneficial for content creators aiming to increase their video's reach and engagement. Here's a structured approach to identify these characteristics:\n",
    "\n",
    "    Descriptive Analysis:\n",
    "        Duration: Analyze the average duration of trending videos compared to non-trending ones. Is there an optimal video length?\n",
    "        Category: Which categories are most represented among trending videos?\n",
    "        Engagement: Compare likes, comments, and their ratios to views for trending versus non-trending videos. High engagement may correlate with trending status.\n",
    "        Publishing Time: Is there a specific time or day of the week when trending videos are usually published?\n",
    "\n",
    "    Content Analysis:\n",
    "        Tags and Keywords: Examine the tags associated with trending videos. Are there common tags or topics?\n",
    "        Description: Analyze the descriptions of trending videos for common keywords or patterns.\n",
    "        Title: Are there certain buzzwords or phrasings commonly found in the titles of trending videos?\n",
    "\n",
    "    Channel Characteristics:\n",
    "        Channel Age: Do trending videos come from older, more established channels or newer ones?\n",
    "        Subscriber Count: Analyze the average subscriber count of channels with trending videos. Do bigger channels have an advantage, or can smaller channels also get into trending?\n",
    "        Channel Category: What are the common categories of channels that produce trending videos?\n",
    "\n",
    "    Technical Aspects:\n",
    "        Video Quality: Look into attributes like definition and dimension to see if trending videos tend to be of higher quality (e.g., HD).\n",
    "        Caption: Do trending videos often have captions (indicating accessibility for a broader audience)?\n",
    "        Embeddable: Are trending videos more likely to be embeddable on other platforms, leading to more views?\n",
    "\n",
    "    External Factors:\n",
    "        Collaborations: Do collaborations between channels or featuring popular personalities lead to videos trending?\n",
    "        Current Events: Are the trending videos often related to current events, holidays, or trending topics globally?\n",
    "\n",
    "    Advanced Analysis (If Data Available):\n",
    "        Sentiment Analysis: Analyze the comments of trending videos to see if there's a prevalent sentiment (positive, negative, neutral).\n",
    "        Viewer Demographics: If you have access to viewer demographic data, you can see if trending videos appeal to a specific age group, country, or gender."
   ]
  },
  {
   "cell_type": "markdown",
   "id": "06456a4f",
   "metadata": {},
   "source": [
    "#### Correlations"
   ]
  },
  {
   "cell_type": "code",
   "execution_count": 28,
   "id": "ff321d24",
   "metadata": {},
   "outputs": [
    {
     "name": "stdout",
     "output_type": "stream",
     "text": [
      "Correlation between number of trending videos and subscriber count: 0.62\n",
      "Correlation between number of trending videos and view count: 0.38\n"
     ]
    },
    {
     "data": {
      "image/png": "[encoded data removed]",
      "text/plain": [
       "<Figure size 1000x600 with 1 Axes>"
      ]
     },
     "metadata": {},
     "output_type": "display_data"
    },
    {
     "data": {
      "image/png": "[encoded data removed]",
      "text/plain": [
       "<Figure size 1000x600 with 1 Axes>"
      ]
     },
     "metadata": {},
     "output_type": "display_data"
    }
   ],
   "source": [
    "# Calculate the correlation\n",
    "correlation_with_subscribers = channels_df['numberVideoTrending'].corr(channels_df['subscriberCount'])\n",
    "correlation_with_views = channels_df['numberVideoTrending'].corr(channels_df['viewCount'])\n",
    "\n",
    "print(f\"Correlation between number of trending videos and subscriber count: {correlation_with_subscribers:.2f}\")\n",
    "print(f\"Correlation between number of trending videos and view count: {correlation_with_views:.2f}\")\n",
    "\n",
    "# Set up the matplotlib figure\n",
    "plt.figure(figsize=(10, 6))\n",
    "\n",
    "# Scatter plot of Number of Trending Videos vs Subscriber Count\n",
    "sns.scatterplot(x='numberVideoTrending', y='subscriberCount', data=channels_df)\n",
    "plt.title('Number of Trending Videos vs Subscriber Count')\n",
    "plt.show()\n",
    "\n",
    "# Scatter plot of Number of Trending Videos vs View Count\n",
    "plt.figure(figsize=(10, 6))\n",
    "sns.scatterplot(x='numberVideoTrending', y='viewCount', data=channels_df)\n",
    "plt.title('Number of Trending Videos vs View Count')\n",
    "plt.show()\n"
   ]
  },
  {
   "cell_type": "markdown",
   "id": "716d8efe",
   "metadata": {},
   "source": [
    "### trending videos descriptive analysis"
   ]
  },
  {
   "cell_type": "code",
   "execution_count": 29,
   "id": "9c5d5395",
   "metadata": {},
   "outputs": [],
   "source": [
    "def iso8601_duration_to_seconds(duration):\n",
    "    \"\"\"\n",
    "    Convert ISO 8601 duration format to total seconds.\n",
    "    \"\"\"\n",
    "    # Extract hours, minutes, and seconds\n",
    "    hours = re.search('(\\d+)H', duration)\n",
    "    minutes = re.search('(\\d+)M', duration)\n",
    "    seconds = re.search('(\\d+)S', duration)\n",
    "    \n",
    "    hours = int(hours.group(1)) if hours else 0\n",
    "    minutes = int(minutes.group(1)) if minutes else 0\n",
    "    seconds = int(seconds.group(1)) if seconds else 0\n",
    "\n",
    "    return hours * 3600 + minutes * 60 + seconds\n",
    "\n"
   ]
  },
  {
   "cell_type": "code",
   "execution_count": 32,
   "id": "9e3f68b9",
   "metadata": {},
   "outputs": [],
   "source": [
    "# Load the data\n",
    "\n",
    "# Calculate average duration for trending and non-trending videos\n",
    "# Apply the function to the 'duration' column\n",
    "videos_df['duration_seconds'] = videos_df['duration'].apply(iso8601_duration_to_seconds)\n"
   ]
  },
  {
   "cell_type": "code",
   "execution_count": 33,
   "id": "e83d41b6",
   "metadata": {},
   "outputs": [
    {
     "name": "stdout",
     "output_type": "stream",
     "text": [
      "Average duration of trending videos: nan seconds\n",
      "Average duration of non-trending videos: 2463.77 seconds\n",
      "Average duration of trending videos: nan min\n",
      "Average duration of non-trending videos: 41.06 min\n"
     ]
    }
   ],
   "source": [
    "\n",
    "avg_duration_trending = videos_df[videos_df['isTrending'] == True]['duration_seconds'].mean()\n",
    "avg_duration_non_trending = videos_df[videos_df['isTrending'] == False]['duration_seconds'].mean()\n",
    "\n",
    "print(f\"Average duration of trending videos: {avg_duration_trending:.2f} seconds\")\n",
    "print(f\"Average duration of non-trending videos: {avg_duration_non_trending:.2f} seconds\")\n",
    "print(f\"Average duration of trending videos: {avg_duration_trending/60:.2f} min\")\n",
    "print(f\"Average duration of non-trending videos: {avg_duration_non_trending/60:.2f} min\")"
   ]
  },
  {
   "cell_type": "code",
   "execution_count": 34,
   "id": "2b438584",
   "metadata": {},
   "outputs": [
    {
     "name": "stdout",
     "output_type": "stream",
     "text": [
      "Number of trending videos per category:\n",
      "Series([], Name: count, dtype: int64)\n"
     ]
    }
   ],
   "source": [
    "# Count the number of trending videos in each category\n",
    "trending_categories = videos_df[videos_df['isTrending'] == True]['category'].value_counts()\n",
    "\n",
    "print(\"Number of trending videos per category:\")\n",
    "print(trending_categories)\n"
   ]
  },
  {
   "cell_type": "code",
   "execution_count": 35,
   "id": "9aa2f9b1",
   "metadata": {},
   "outputs": [
    {
     "name": "stdout",
     "output_type": "stream",
     "text": [
      "Average likes for trending videos: nan\n",
      "Average comments for trending videos: nan\n",
      "Likes-to-views ratio for trending videos: nan\n",
      "Comments-to-views ratio for trending videos: nan\n",
      "Average likes for non-trending videos: 1349.08\n",
      "Average comments for non-trending videos: 207.00\n",
      "Likes-to-views ratio for non-trending videos: 0.02\n",
      "Comments-to-views ratio for non-trending videos: 0.00\n"
     ]
    }
   ],
   "source": [
    "# Calculate average likes, comments, and their ratios to views\n",
    "avg_likes_trending = videos_df[videos_df['isTrending'] == True]['likeCount'].mean()\n",
    "avg_comments_trending = videos_df[videos_df['isTrending'] == True]['commentCount'].mean()\n",
    "avg_likes_to_views_trending = avg_likes_trending / videos_df[videos_df['isTrending'] == True]['viewCount'].mean()\n",
    "avg_comments_to_views_trending = avg_comments_trending / videos_df[videos_df['isTrending'] == True]['viewCount'].mean()\n",
    "\n",
    "avg_likes_non_trending = videos_df[videos_df['isTrending'] == False]['likeCount'].mean()\n",
    "avg_comments_non_trending = videos_df[videos_df['isTrending'] == False]['commentCount'].mean()\n",
    "avg_likes_to_views_non_trending = avg_likes_non_trending / videos_df[videos_df['isTrending'] == False]['viewCount'].mean()\n",
    "avg_comments_to_views_non_trending = avg_comments_non_trending / videos_df[videos_df['isTrending'] == False]['viewCount'].mean()\n",
    "\n",
    "print(f\"Average likes for trending videos: {avg_likes_trending:.2f}\")\n",
    "print(f\"Average comments for trending videos: {avg_comments_trending:.2f}\")\n",
    "print(f\"Likes-to-views ratio for trending videos: {avg_likes_to_views_trending:.2f}\")\n",
    "print(f\"Comments-to-views ratio for trending videos: {avg_comments_to_views_trending:.2f}\")\n",
    "\n",
    "print(f\"Average likes for non-trending videos: {avg_likes_non_trending:.2f}\")\n",
    "print(f\"Average comments for non-trending videos: {avg_comments_non_trending:.2f}\")\n",
    "print(f\"Likes-to-views ratio for non-trending videos: {avg_likes_to_views_non_trending:.2f}\")\n",
    "print(f\"Comments-to-views ratio for non-trending videos: {avg_comments_to_views_non_trending:.2f}\")\n"
   ]
  },
  {
   "cell_type": "code",
   "execution_count": 36,
   "id": "d1f31d06",
   "metadata": {},
   "outputs": [],
   "source": [
    "# Convert 'publishedAt' column to datetime format\n",
    "videos_df['publishedAt'] = pd.to_datetime(videos_df['publishedAt'])\n",
    "\n",
    "# Extract day of the week from 'publishedAt'\n",
    "videos_df['published_day'] = videos_df['publishedAt'].dt.day_name()\n"
   ]
  },
  {
   "cell_type": "code",
   "execution_count": 37,
   "id": "1f78e128",
   "metadata": {},
   "outputs": [
    {
     "name": "stdout",
     "output_type": "stream",
     "text": [
      "Number of trending videos published per day of the week:\n",
      "Series([], Name: count, dtype: int64)\n"
     ]
    }
   ],
   "source": [
    "\n",
    "# Count the number of trending videos published on each day\n",
    "trending_days = videos_df[videos_df['isTrending'] == True]['published_day'].value_counts()\n",
    "\n",
    "print(\"Number of trending videos published per day of the week:\")\n",
    "print(trending_days)\n",
    "\n"
   ]
  },
  {
   "cell_type": "markdown",
   "id": "76c895b7",
   "metadata": {},
   "source": [
    "#### Videos with views on top 10% descriptive analysis"
   ]
  },
  {
   "cell_type": "markdown",
   "id": "a741e6b8",
   "metadata": {},
   "source": [
    "    Identify Videos with Higher Views:\n",
    "        For simplicity, let's define videos with higher views as those in the top 10% of view counts in your dataset.\n",
    "\n",
    "    Descriptive Analysis for High-View Videos:\n",
    "        Duration: Average duration of high-view videos.\n",
    "        Category: Which categories are most represented among high-view videos?\n",
    "        Engagement: Compare likes, comments, and their ratios for high-view videos.\n",
    "        Publishing Time: Check if there's a specific time or day of the week when high-view videos are usually published."
   ]
  },
  {
   "cell_type": "code",
   "execution_count": 38,
   "id": "dfe2f7ba",
   "metadata": {},
   "outputs": [
    {
     "name": "stdout",
     "output_type": "stream",
     "text": [
      "Average duration of high-view videos: 2994.42 seconds\n",
      "\n",
      "Average likes for high-view videos: 11989.63\n",
      "Average comments for high-view videos: 1840.89\n",
      "Likes-to-views ratio for high-view videos: 0.02\n",
      "Comments-to-views ratio for high-view videos: 0.00\n",
      "\n",
      "Number of high-view videos published per day of the week:\n",
      "published_day\n",
      "Friday       4\n",
      "Thursday     4\n",
      "Monday       3\n",
      "Wednesday    3\n",
      "Tuesday      2\n",
      "Sunday       2\n",
      "Saturday     1\n",
      "Name: count, dtype: int64\n"
     ]
    },
    {
     "name": "stderr",
     "output_type": "stream",
     "text": [
      "/tmp/ipykernel_753357/907907415.py:21: SettingWithCopyWarning: \n",
      "A value is trying to be set on a copy of a slice from a DataFrame.\n",
      "Try using .loc[row_indexer,col_indexer] = value instead\n",
      "\n",
      "See the caveats in the documentation: https://pandas.pydata.org/pandas-docs/stable/user_guide/indexing.html#returning-a-view-versus-a-copy\n",
      "  high_view_videos['published_day'] = high_view_videos['publishedAt'].dt.day_name()\n"
     ]
    }
   ],
   "source": [
    "\n",
    "# Identify the top 10% of videos by view count\n",
    "threshold = videos_df['viewCount'].quantile(0.9)\n",
    "high_view_videos = videos_df[videos_df['viewCount'] > threshold]\n",
    "\n",
    "# Duration\n",
    "avg_duration_high_view = high_view_videos['duration_seconds'].mean()\n",
    "print(f\"Average duration of high-view videos: {avg_duration_high_view:.2f} seconds\")\n",
    "\n",
    "# Engagement\n",
    "avg_likes_high_view = high_view_videos['likeCount'].mean()\n",
    "avg_comments_high_view = high_view_videos['commentCount'].mean()\n",
    "avg_likes_to_views_high_view = avg_likes_high_view / high_view_videos['viewCount'].mean()\n",
    "avg_comments_to_views_high_view = avg_comments_high_view / high_view_videos['viewCount'].mean()\n",
    "\n",
    "print(f\"\\nAverage likes for high-view videos: {avg_likes_high_view:.2f}\")\n",
    "print(f\"Average comments for high-view videos: {avg_comments_high_view:.2f}\")\n",
    "print(f\"Likes-to-views ratio for high-view videos: {avg_likes_to_views_high_view:.2f}\")\n",
    "print(f\"Comments-to-views ratio for high-view videos: {avg_comments_to_views_high_view:.2f}\")\n",
    "\n",
    "# Publishing Time\n",
    "high_view_videos['published_day'] = high_view_videos['publishedAt'].dt.day_name()\n",
    "high_view_days = high_view_videos['published_day'].value_counts()\n",
    "\n",
    "print(\"\\nNumber of high-view videos published per day of the week:\")\n",
    "print(high_view_days)\n"
   ]
  },
  {
   "cell_type": "markdown",
   "id": "8d7941ed",
   "metadata": {},
   "source": [
    "### Content Analysis"
   ]
  },
  {
   "cell_type": "markdown",
   "id": "ff0bead9",
   "metadata": {},
   "source": [
    "    Tags Analysis:\n",
    "        We'll find out the most common tags associated with high-view videos.\n",
    "    Description Analysis:\n",
    "        Extract common keywords from the video descriptions to identify prevalent topics.\n",
    "    Duration Analysis:\n",
    "        We've already analyzed the duration for high-view videos, but we can further examine the distribution of durations to find if there's an optimal range."
   ]
  },
  {
   "cell_type": "markdown",
   "id": "53d35a7e",
   "metadata": {},
   "source": [
    "#### Tags Analysis"
   ]
  },
  {
   "cell_type": "code",
   "execution_count": 39,
   "id": "e548b1cb",
   "metadata": {},
   "outputs": [
    {
     "name": "stdout",
     "output_type": "stream",
     "text": [
      "Top 30 tags for high-view videos:\n",
      " 'theory of everything': 16\n",
      " 'emergence theory': 16\n",
      " 'mathematics': 13\n",
      " 'quantum gravity': 12\n",
      " 'physics': 12\n",
      " 'science': 12\n",
      " 'math': 11\n",
      " 'quantum gravity research': 10\n",
      " 'physicist': 9\n",
      " 'scientist': 9\n",
      " 'mathematician': 9\n",
      " 'quantum mechanics': 9\n",
      " 'quantum physics': 9\n",
      " 'irwin': 9\n",
      " 'irwin klee': 9\n",
      " 'klee irwin': 8\n",
      " 'quantum': 8\n",
      " 'E8 lattice': 8\n",
      " 'maths': 7\n",
      " 'golden ratio': 7\n",
      " 'Klee Irwin': 7\n",
      "['Consciousness': 6\n",
      " 'artificial intelligence': 6\n",
      " 'deep learning': 6\n",
      " 'UFO': 6\n",
      " 'aliens': 6\n",
      " 'end of the world': 6\n",
      " 'apocalypse': 6\n",
      " 'simulation hypothesis': 6\n",
      " 'self-simulation hypothesis': 6\n"
     ]
    }
   ],
   "source": [
    "from collections import Counter\n",
    "\n",
    "# Split tags and count occurrences\n",
    "all_tags = [tag for sublist in high_view_videos['tags'].dropna().str.split(',').tolist() for tag in sublist]\n",
    "tag_counts = Counter(all_tags)\n",
    "\n",
    "# Get the top 10 most common tags\n",
    "common_tags = tag_counts.most_common(30)\n",
    "\n",
    "print(\"Top 30 tags for high-view videos:\")\n",
    "for tag, count in common_tags:\n",
    "    print(f\"{tag}: {count}\")\n"
   ]
  },
  {
   "cell_type": "markdown",
   "id": "6817f2ad",
   "metadata": {},
   "source": [
    "#### Description Analysis"
   ]
  },
  {
   "cell_type": "code",
   "execution_count": 42,
   "id": "456cb379",
   "metadata": {},
   "outputs": [
    {
     "name": "stdout",
     "output_type": "stream",
     "text": [
      "\n",
      "Top 30 keywords in descriptions for high-view videos:\n",
      "qgr: 55\n",
      "research: 38\n",
      "reality: 35\n",
      "made: 29\n",
      "quantum: 27\n",
      "website:: 27\n",
      "klee: 25\n",
      "philosophy: 21\n",
      "scientific: 19\n",
      "would: 18\n",
      "gravity: 17\n",
      "visit: 17\n",
      "one: 16\n",
      "physics: 16\n",
      "read: 16\n",
      "papers: 16\n",
      "http://www.quantumgravityresearch.org: 14\n",
      "know: 14\n",
      "twitter:: 14\n",
      "irwin's: 14\n",
      "materialism,: 13\n",
      "information: 13\n",
      "belief: 13\n",
      "universal: 13\n",
      "could: 13\n",
      "picture: 13\n",
      "get: 13\n",
      "qgr’s: 13\n",
      "scientists:: 13\n",
      "http://www.quantumgravityresearch.org/about-quantum: 13\n"
     ]
    },
    {
     "name": "stderr",
     "output_type": "stream",
     "text": [
      "[nltk_data] Downloading package stopwords to\n",
      "[nltk_data]     /home/mamaral/nltk_data...\n",
      "[nltk_data]   Package stopwords is already up-to-date!\n"
     ]
    }
   ],
   "source": [
    "# If you haven't downloaded the stopwords dataset, you can do so using nltk.download('stopwords')\n",
    "nltk.download('stopwords')\n",
    "stop_words = set(stopwords.words('english'))\n",
    "\n",
    "# Tokenize descriptions and count occurrences, excluding stopwords\n",
    "all_words = [word for sublist in high_view_videos['description'].dropna().str.lower().str.split().tolist() for word in sublist]\n",
    "filtered_words = [word for word in all_words if word not in stop_words]\n",
    "word_counts = Counter(filtered_words)\n",
    "\n",
    "# Get the top 10 most common words\n",
    "common_words = word_counts.most_common(30)\n",
    "\n",
    "print(\"\\nTop 30 keywords in descriptions for high-view videos:\")\n",
    "for word, count in common_words:\n",
    "    print(f\"{word}: {count}\")\n"
   ]
  },
  {
   "cell_type": "markdown",
   "id": "2ab990f1",
   "metadata": {},
   "source": [
    "#### Duration Analysis"
   ]
  },
  {
   "cell_type": "code",
   "execution_count": 43,
   "id": "148c9086",
   "metadata": {},
   "outputs": [
    {
     "name": "stderr",
     "output_type": "stream",
     "text": [
      "/tmp/ipykernel_753357/19573583.py:2: SettingWithCopyWarning: \n",
      "A value is trying to be set on a copy of a slice from a DataFrame.\n",
      "Try using .loc[row_indexer,col_indexer] = value instead\n",
      "\n",
      "See the caveats in the documentation: https://pandas.pydata.org/pandas-docs/stable/user_guide/indexing.html#returning-a-view-versus-a-copy\n",
      "  high_view_videos['duration_minutes'] = high_view_videos['duration_seconds'] / 60\n"
     ]
    }
   ],
   "source": [
    "# Convert 'duration_seconds' to minutes\n",
    "high_view_videos['duration_minutes'] = high_view_videos['duration_seconds'] / 60\n"
   ]
  },
  {
   "cell_type": "code",
   "execution_count": 44,
   "id": "b685f76c",
   "metadata": {},
   "outputs": [
    {
     "name": "stdout",
     "output_type": "stream",
     "text": [
      "Average duration of high-view videos: 49.91 minutes\n",
      "Median duration of high-view videos: 29.68 minutes\n",
      "Most common duration of high-view videos: 2.12 minutes\n"
     ]
    },
    {
     "data": {
      "image/png": "[encoded data removed]",
      "text/plain": [
       "<Figure size 1000x600 with 1 Axes>"
      ]
     },
     "metadata": {},
     "output_type": "display_data"
    }
   ],
   "source": [
    "\n",
    "# Compute summary statistics\n",
    "avg_duration = high_view_videos['duration_minutes'].mean()\n",
    "median_duration = high_view_videos['duration_minutes'].median()\n",
    "mode_duration = high_view_videos['duration_minutes'].mode()[0]  # Getting the first mode in case there are multiple\n",
    "\n",
    "# Print the statistics\n",
    "print(f\"Average duration of high-view videos: {avg_duration:.2f} minutes\")\n",
    "print(f\"Median duration of high-view videos: {median_duration:.2f} minutes\")\n",
    "print(f\"Most common duration of high-view videos: {mode_duration:.2f} minutes\")\n",
    "\n",
    "# Plotting the distribution of durations in minutes\n",
    "plt.figure(figsize=(10, 6))\n",
    "sns.histplot(high_view_videos['duration_minutes'], kde=True)\n",
    "plt.title('Distribution of Duration for High-View Videos')\n",
    "plt.xlabel('Duration (in minutes)')\n",
    "plt.ylabel('Number of Videos')\n",
    "plt.show()\n"
   ]
  },
  {
   "cell_type": "code",
   "execution_count": 45,
   "id": "21899cbc",
   "metadata": {},
   "outputs": [
    {
     "name": "stdout",
     "output_type": "stream",
     "text": [
      "Number of high-view videos without a specified duration: 0\n",
      "Number of high-view videos with a duration of less than 1 minute: 0\n"
     ]
    }
   ],
   "source": [
    "missing_durations = high_view_videos['duration_seconds'].isnull().sum()\n",
    "\n",
    "print(f\"Number of high-view videos without a specified duration: {missing_durations}\")\n",
    "\n",
    "short_videos_count = high_view_videos[high_view_videos['duration_seconds'] < 60].shape[0]\n",
    "\n",
    "print(f\"Number of high-view videos with a duration of less than 1 minute: {short_videos_count}\")\n"
   ]
  },
  {
   "cell_type": "code",
   "execution_count": 46,
   "id": "6bf514b5",
   "metadata": {},
   "outputs": [
    {
     "name": "stdout",
     "output_type": "stream",
     "text": [
      "Title: Klee Irwin - Why Use an 8-Dimensional Shape to Describe 3-Dimensional Reality?\n",
      "URL: https://www.youtube.com/watch?v=PKXJb4Ok9hQ\n",
      "Channel: Quantum Gravity Research\n",
      "\n"
     ]
    }
   ],
   "source": [
    "# Filter videos with duration less than x minute\n",
    "short_videos_df = high_view_videos[high_view_videos['duration_seconds'] < 600]\n",
    "\n",
    "# Randomly sample 5 videos from the filtered dataset\n",
    "sample_videos = short_videos_df.sample(n=1, random_state=42)[['title', 'videoId', 'channelTitle']]\n",
    "\n",
    "# Print the details for the sampled videos\n",
    "for index, row in sample_videos.iterrows():\n",
    "    print(f\"Title: {row['title']}\")\n",
    "    print(f\"URL: https://www.youtube.com/watch?v={row['videoId']}\")\n",
    "    print(f\"Channel: {row['channelTitle']}\\n\")\n"
   ]
  },
  {
   "cell_type": "markdown",
   "id": "590f4ccc",
   "metadata": {},
   "source": [
    "The product of views and duration (referred to as \"watch time\" in this context) is a valuable metric for platforms like YouTube. In fact, YouTube's algorithm uses watch time as a primary metric for recommending videos.\n",
    "\n",
    "One idea is to analyze the product of views and duration to determine the \"sweet spot\" for video length.\n",
    "\n",
    "To determine the optimal video duration in terms of watch time:\n",
    "\n",
    "    Compute Watch Time: Create a new column in your dataset called \"watch_time\" which is a product of views and duration.\n",
    "    Analyze Watch Time vs. Duration: Plot \"watch_time\" against \"duration\" to visualize the relationship.\n",
    "    Optimization Analysis: This is slightly more involved. It involves determining which duration maximizes the watch time. For this, you can group by video duration and sum the watch time. This will give you the total watch time for videos of each duration. Plotting this could give you an insight into the optimal video length."
   ]
  },
  {
   "cell_type": "code",
   "execution_count": 47,
   "id": "65750e2a",
   "metadata": {},
   "outputs": [],
   "source": [
    "# Compute watch time for each video as the product of views and duration in seconds\n",
    "videos_df['watch_time'] = videos_df['viewCount'] * videos_df['duration_seconds']\n"
   ]
  },
  {
   "cell_type": "code",
   "execution_count": 48,
   "id": "e565f68e",
   "metadata": {},
   "outputs": [
    {
     "data": {
      "image/png": "[encoded data removed]",
      "text/plain": [
       "<Figure size 1200x800 with 1 Axes>"
      ]
     },
     "metadata": {},
     "output_type": "display_data"
    }
   ],
   "source": [
    "# Plotting the relationship between watch time and video duration\n",
    "plt.figure(figsize=(12, 8))\n",
    "plt.scatter(videos_df['duration_seconds'], videos_df['watch_time'], alpha=0.5)\n",
    "plt.title('Watch Time vs Video Duration')\n",
    "plt.xlabel('Video Duration (seconds)')\n",
    "plt.ylabel('Watch Time (views x duration)')\n",
    "plt.grid(True)\n",
    "plt.show()\n"
   ]
  },
  {
   "cell_type": "code",
   "execution_count": 49,
   "id": "6234e642",
   "metadata": {},
   "outputs": [
    {
     "data": {
      "text/plain": [
       "(count      182.000000\n",
       " mean      2463.769231\n",
       " std       2508.123113\n",
       " min         34.000000\n",
       " 25%        524.500000\n",
       " 50%       1289.000000\n",
       " 75%       4127.500000\n",
       " 95%       7602.500000\n",
       " max      12275.000000\n",
       " Name: duration_seconds, dtype: float64,\n",
       " count    1.820000e+02\n",
       " mean     1.848798e+08\n",
       " std      1.088979e+09\n",
       " min      1.688000e+04\n",
       " 25%      1.176146e+06\n",
       " 50%      5.266609e+06\n",
       " 75%      2.333656e+07\n",
       " 95%      1.530484e+08\n",
       " max      1.050566e+10\n",
       " Name: watch_time, dtype: float64,\n",
       " 0.23130163446284807)"
      ]
     },
     "execution_count": 49,
     "metadata": {},
     "output_type": "execute_result"
    }
   ],
   "source": [
    "# Descriptive statistics for video duration\n",
    "duration_stats = videos_df['duration_seconds'].describe(percentiles=[.25, .75, .95])\n",
    "\n",
    "# Descriptive statistics for watch time\n",
    "watch_time_stats = videos_df['watch_time'].describe(percentiles=[.25, .75, .95])\n",
    "\n",
    "# Correlation between duration and watch time\n",
    "correlation = videos_df['duration_seconds'].corr(videos_df['watch_time'])\n",
    "\n",
    "duration_stats, watch_time_stats, correlation\n"
   ]
  },
  {
   "cell_type": "markdown",
   "id": "db34466b",
   "metadata": {},
   "source": [
    "Given this analysis on a larger dataset, if you're considering producing content, it's essential to balance video length with content quality. Very long videos may not necessarily guarantee higher watch times, and other factors should be prioritized to maximize audience engagement."
   ]
  },
  {
   "cell_type": "markdown",
   "id": "8de93a7e",
   "metadata": {},
   "source": [
    "To validate the hypothesis that a duration of approximately 17 minutes (or ~1020 seconds) is the \"sweet spot\" for maximizing watch time, we can compare the average watch time of videos around this duration with the average watch time of other videos.\n",
    "\n",
    "We can segment the videos into the following groups:\n",
    "\n",
    "    Videos with durations less than 17 minutes.\n",
    "    Videos with durations around 17 minutes (say, within a range of ±2 minutes).\n",
    "    Videos with durations greater than 17 minutes."
   ]
  },
  {
   "cell_type": "code",
   "execution_count": 50,
   "id": "7341aa58",
   "metadata": {},
   "outputs": [
    {
     "data": {
      "text/plain": [
       "(2307045.186440678, 10826484.166666666, 285872288.52136755)"
      ]
     },
     "execution_count": 50,
     "metadata": {},
     "output_type": "execute_result"
    }
   ],
   "source": [
    "# Segment videos into three groups\n",
    "short_videos = videos_df[videos_df['duration_seconds'] < 900]  # less than 15 minutes\n",
    "sweet_spot_videos = videos_df[(videos_df['duration_seconds'] >= 900) & (videos_df['duration_seconds'] <= 1140)]  # 15 to 19 minutes\n",
    "long_videos = videos_df[videos_df['duration_seconds'] > 1140]  # greater than 19 minutes\n",
    "\n",
    "# Calculate average watch time for each group\n",
    "avg_watch_time_short = short_videos['watch_time'].mean()\n",
    "avg_watch_time_sweet_spot = sweet_spot_videos['watch_time'].mean()\n",
    "avg_watch_time_long = long_videos['watch_time'].mean()\n",
    "\n",
    "avg_watch_time_short, avg_watch_time_sweet_spot, avg_watch_time_long\n"
   ]
  },
  {
   "cell_type": "code",
   "execution_count": null,
   "id": "1827759d",
   "metadata": {},
   "outputs": [],
   "source": []
  },
  {
   "cell_type": "markdown",
   "id": "414ed9a3",
   "metadata": {},
   "source": [
    "### Time Series Analysis"
   ]
  },
  {
   "cell_type": "markdown",
   "id": "cde2b36d",
   "metadata": {},
   "source": [
    "1. Optimal Publishing Times:\n",
    "\n",
    "To determine if there are specific times of the year or days of the week that are better for publishing to get more views:\n",
    "\n",
    "    Time of Year:\n",
    "        Group videos by month and compute the average views for each month.\n",
    "        Plot the monthly averages to see if there are particular months with higher views.\n",
    "    Day of the Week:\n",
    "        You've already done this to some extent with high-view videos. For a more general analysis, you can compute the average views for each day of the week across all videos.\n",
    "\n",
    "2. Channel Growth Over Time:\n",
    "\n",
    "To analyze growth trends for channels:\n",
    "\n",
    "    Views Growth:\n",
    "        Group the data by channelId and a time unit (e.g., month) and sum the views for each period.\n",
    "        Plot the cumulative views over time for selected channels to see their growth trajectories.\n",
    "    Subscriber Growth:\n",
    "        If you have historical subscriber counts for channels, you can plot these over time to analyze subscriber growth. If not, other metrics like the cumulative number of videos published can serve as a proxy for channel activity and growth."
   ]
  },
  {
   "cell_type": "markdown",
   "id": "7bfbfc54",
   "metadata": {},
   "source": [
    "#### Optimal Publishing Times"
   ]
  },
  {
   "cell_type": "code",
   "execution_count": 51,
   "id": "31185234",
   "metadata": {},
   "outputs": [
    {
     "data": {
      "image/png": "[encoded data removed]",
      "text/plain": [
       "<Figure size 1200x600 with 1 Axes>"
      ]
     },
     "metadata": {},
     "output_type": "display_data"
    },
    {
     "data": {
      "image/png": "[encoded data removed]",
      "text/plain": [
       "<Figure size 1200x600 with 1 Axes>"
      ]
     },
     "metadata": {},
     "output_type": "display_data"
    }
   ],
   "source": [
    "# Convert 'publishedAt' to datetime format\n",
    "videos_df['publishedAt'] = pd.to_datetime(videos_df['publishedAt'])\n",
    "\n",
    "# Time of Year Analysis\n",
    "videos_df['month'] = videos_df['publishedAt'].dt.month\n",
    "monthly_avg_views = videos_df.groupby('month')['viewCount'].mean()\n",
    "\n",
    "plt.figure(figsize=(12, 6))\n",
    "monthly_avg_views.plot(kind='bar')\n",
    "plt.title('Average Views by Month')\n",
    "plt.xlabel('Month')\n",
    "plt.ylabel('Average Views')\n",
    "plt.show()\n",
    "\n",
    "# Day of the Week Analysis\n",
    "videos_df['day_of_week'] = videos_df['publishedAt'].dt.day_name()\n",
    "weekday_avg_views = videos_df.groupby('day_of_week')['viewCount'].mean()\n",
    "\n",
    "plt.figure(figsize=(12, 6))\n",
    "weekday_avg_views.reindex(['Monday', 'Tuesday', 'Wednesday', 'Thursday', 'Friday', 'Saturday', 'Sunday']).plot(kind='bar')\n",
    "plt.title('Average Views by Day of the Week')\n",
    "plt.xlabel('Day of the Week')\n",
    "plt.ylabel('Average Views')\n",
    "plt.show()\n"
   ]
  },
  {
   "cell_type": "code",
   "execution_count": 56,
   "id": "c5a9184e",
   "metadata": {},
   "outputs": [
    {
     "name": "stdout",
     "output_type": "stream",
     "text": [
      "month\n",
      "1       5305.600000\n",
      "2       4667.470588\n",
      "3     227454.650000\n",
      "4      41007.793103\n",
      "5     200669.090909\n",
      "6       5755.466667\n",
      "7      11335.375000\n",
      "8       6618.166667\n",
      "9      30479.625000\n",
      "10     14567.857143\n",
      "11    156560.416667\n",
      "12     13494.230769\n",
      "Name: viewCount, dtype: float64\n",
      "day_of_week\n",
      "Friday        13302.730769\n",
      "Monday        26440.477273\n",
      "Saturday     479134.555556\n",
      "Sunday        31419.250000\n",
      "Thursday      65058.043478\n",
      "Tuesday       70119.730769\n",
      "Wednesday     17502.777778\n",
      "Name: viewCount, dtype: float64\n"
     ]
    }
   ],
   "source": [
    "print(monthly_avg_views)\n",
    "print(weekday_avg_views)"
   ]
  },
  {
   "cell_type": "markdown",
   "id": "c3894490",
   "metadata": {},
   "source": [
    "#### Channel Growth Over Time"
   ]
  },
  {
   "cell_type": "code",
   "execution_count": 52,
   "id": "c116dca8",
   "metadata": {},
   "outputs": [
    {
     "name": "stderr",
     "output_type": "stream",
     "text": [
      "/tmp/ipykernel_753357/1804452372.py:2: UserWarning: Converting to PeriodArray/Index representation will drop timezone information.\n",
      "  channel_monthly_views = videos_df.groupby(['channelId', videos_df['publishedAt'].dt.to_period(\"M\")])['viewCount'].sum().reset_index()\n"
     ]
    },
    {
     "data": {
      "text/plain": [
       "<Figure size 1200x600 with 0 Axes>"
      ]
     },
     "metadata": {},
     "output_type": "display_data"
    },
    {
     "data": {
      "image/png": "[encoded data removed]",
      "text/plain": [
       "<Figure size 640x480 with 1 Axes>"
      ]
     },
     "metadata": {},
     "output_type": "display_data"
    }
   ],
   "source": [
    "# Group by channelId and month\n",
    "channel_monthly_views = videos_df.groupby(['channelId', videos_df['publishedAt'].dt.to_period(\"M\")])['viewCount'].sum().reset_index()\n",
    "channel_monthly_views['cumulative_views'] = channel_monthly_views.groupby('channelId')['viewCount'].cumsum()\n",
    "\n",
    "# Plotting for a sample channel\n",
    "sample_channel = channel_monthly_views['channelId'].iloc[0]\n",
    "sample_data = channel_monthly_views[channel_monthly_views['channelId'] == sample_channel]\n",
    "\n",
    "plt.figure(figsize=(12, 6))\n",
    "sample_data.plot(x='publishedAt', y='cumulative_views')\n",
    "plt.title(f'Cumulative Views Over Time for Channel: {sample_channel}')\n",
    "plt.xlabel('Time')\n",
    "plt.ylabel('Cumulative Views')\n",
    "plt.show()\n"
   ]
  },
  {
   "cell_type": "code",
   "execution_count": 58,
   "id": "57d46456",
   "metadata": {},
   "outputs": [
    {
     "name": "stdout",
     "output_type": "stream",
     "text": [
      "                   channelId publishedAt  viewCount  cumulative_views\n",
      "0   UCUyk0KLo7JPLCCh4oRNLzsQ     2015-11    1677570           1677570\n",
      "1   UCUyk0KLo7JPLCCh4oRNLzsQ     2016-04      12140           1689710\n",
      "2   UCUyk0KLo7JPLCCh4oRNLzsQ     2016-05      25117           1714827\n",
      "3   UCUyk0KLo7JPLCCh4oRNLzsQ     2016-07      23713           1738540\n",
      "4   UCUyk0KLo7JPLCCh4oRNLzsQ     2016-08       2224           1740764\n",
      "5   UCUyk0KLo7JPLCCh4oRNLzsQ     2016-10       4725           1745489\n",
      "6   UCUyk0KLo7JPLCCh4oRNLzsQ     2016-11       1095           1746584\n",
      "7   UCUyk0KLo7JPLCCh4oRNLzsQ     2017-01       5090           1751674\n",
      "8   UCUyk0KLo7JPLCCh4oRNLzsQ     2017-03    4484767           6236441\n",
      "9   UCUyk0KLo7JPLCCh4oRNLzsQ     2017-04     162982           6399423\n",
      "10  UCUyk0KLo7JPLCCh4oRNLzsQ     2017-05     111539           6510962\n",
      "11  UCUyk0KLo7JPLCCh4oRNLzsQ     2017-06      53774           6564736\n",
      "12  UCUyk0KLo7JPLCCh4oRNLzsQ     2017-07      54682           6619418\n",
      "13  UCUyk0KLo7JPLCCh4oRNLzsQ     2017-08      37485           6656903\n",
      "14  UCUyk0KLo7JPLCCh4oRNLzsQ     2017-09     708134           7365037\n",
      "15  UCUyk0KLo7JPLCCh4oRNLzsQ     2017-10      10323           7375360\n",
      "16  UCUyk0KLo7JPLCCh4oRNLzsQ     2017-11     112538           7487898\n",
      "17  UCUyk0KLo7JPLCCh4oRNLzsQ     2017-12      40867           7528765\n",
      "18  UCUyk0KLo7JPLCCh4oRNLzsQ     2018-01      45261           7574026\n",
      "19  UCUyk0KLo7JPLCCh4oRNLzsQ     2018-02      36901           7610927\n",
      "20  UCUyk0KLo7JPLCCh4oRNLzsQ     2018-04      38889           7649816\n",
      "21  UCUyk0KLo7JPLCCh4oRNLzsQ     2018-05    2052430           9702246\n",
      "22  UCUyk0KLo7JPLCCh4oRNLzsQ     2018-10      37066           9739312\n",
      "23  UCUyk0KLo7JPLCCh4oRNLzsQ     2019-01      13076           9752388\n",
      "24  UCUyk0KLo7JPLCCh4oRNLzsQ     2019-02       6096           9758484\n",
      "25  UCUyk0KLo7JPLCCh4oRNLzsQ     2019-03      22942           9781426\n",
      "26  UCUyk0KLo7JPLCCh4oRNLzsQ     2019-04       9070           9790496\n",
      "27  UCUyk0KLo7JPLCCh4oRNLzsQ     2019-05       5239           9795735\n",
      "28  UCUyk0KLo7JPLCCh4oRNLzsQ     2019-06       8956           9804691\n",
      "29  UCUyk0KLo7JPLCCh4oRNLzsQ     2019-12       2221           9806912\n",
      "30  UCUyk0KLo7JPLCCh4oRNLzsQ     2020-01       6110           9813022\n",
      "31  UCUyk0KLo7JPLCCh4oRNLzsQ     2020-02      10221           9823243\n",
      "32  UCUyk0KLo7JPLCCh4oRNLzsQ     2020-03       2279           9825522\n",
      "33  UCUyk0KLo7JPLCCh4oRNLzsQ     2020-04      90384           9915906\n",
      "34  UCUyk0KLo7JPLCCh4oRNLzsQ     2020-06      16733           9932639\n",
      "35  UCUyk0KLo7JPLCCh4oRNLzsQ     2020-07       5994           9938633\n",
      "36  UCUyk0KLo7JPLCCh4oRNLzsQ     2020-09      14954           9953587\n",
      "37  UCUyk0KLo7JPLCCh4oRNLzsQ     2021-06       3604           9957191\n",
      "38  UCUyk0KLo7JPLCCh4oRNLzsQ     2021-09       8423           9965614\n",
      "39  UCUyk0KLo7JPLCCh4oRNLzsQ     2022-04      13556           9979170\n",
      "40  UCUyk0KLo7JPLCCh4oRNLzsQ     2022-10      49861          10029031\n",
      "41  UCUyk0KLo7JPLCCh4oRNLzsQ     2022-11      87522          10116553\n",
      "42  UCUyk0KLo7JPLCCh4oRNLzsQ     2022-12     132337          10248890\n",
      "43  UCUyk0KLo7JPLCCh4oRNLzsQ     2023-01      36575          10285465\n",
      "44  UCUyk0KLo7JPLCCh4oRNLzsQ     2023-02      26129          10311594\n",
      "45  UCUyk0KLo7JPLCCh4oRNLzsQ     2023-03      39105          10350699\n",
      "46  UCUyk0KLo7JPLCCh4oRNLzsQ     2023-04     862205          11212904\n",
      "47  UCUyk0KLo7JPLCCh4oRNLzsQ     2023-05      13035          11225939\n",
      "48  UCUyk0KLo7JPLCCh4oRNLzsQ     2023-06       3265          11229204\n",
      "49  UCUyk0KLo7JPLCCh4oRNLzsQ     2023-07       6294          11235498\n"
     ]
    }
   ],
   "source": [
    "print(sample_data)"
   ]
  },
  {
   "cell_type": "markdown",
   "id": "4de9c884",
   "metadata": {},
   "source": [
    "## Competitive Analysis Veritasium - UCHnyfMqiRRG1u"
   ]
  },
  {
   "cell_type": "markdown",
   "id": "015a3c51",
   "metadata": {},
   "source": [
    "Here's a roadmap for a competitive analysis on \"Veritasium\":\n",
    "1. Content Analysis:\n",
    "\n",
    "    Video Topics: Examine the topics of the most popular videos on Veritasium. Are there recurring themes or subjects?\n",
    "    Video Length: What's the average duration of their videos? Do they lean more towards long-form or short-form content?\n",
    "    Thumbnail Analysis: Thumbnails play a significant role in getting clicks. Are there common elements or styles in Veritasium's video thumbnails?\n",
    "\n",
    "2. Engagement Metrics:\n",
    "\n",
    "    Likes, Comments, and Shares: Measure the average engagement metrics of Veritasium's videos. High engagement often correlates with content quality and audience interest.\n",
    "    Viewer Interaction: Look at the comment sections of their videos. How does Veritasium interact with its audience? Is there active engagement?\n",
    "\n",
    "3. Publishing Schedule:\n",
    "\n",
    "    Frequency: How often does Veritasium post new content?\n",
    "    Timing: On which days and at what times do they typically publish new videos?\n",
    "\n",
    "4. Channel Branding and Presentation:\n",
    "\n",
    "    Channel Art and Description: How have they branded their YouTube channel's homepage?\n",
    "    Playlists: Do they organize their videos into playlists? What are the themes of these playlists?\n",
    "\n",
    "5. Collaborations and Partnerships:\n",
    "\n",
    "    Has Veritasium collaborated with other YouTubers or brands? Collaborations can significantly increase reach and bring in new subscribers.\n",
    "\n",
    "6. Monetization and Promotions:\n",
    "\n",
    "    Do they have sponsored content? If so, who are their sponsors?\n",
    "    Do they promote merchandise or other products?\n",
    "\n",
    "7. Audience Demographics (if available):\n",
    "\n",
    "    Understanding the target audience's age, gender, location, and other demographics can offer insights into content preferences.\n",
    "\n",
    "To perform this analysis, you'd typically use a combination of manual review (visiting their channel and going through videos) and automated tools (like YouTube analytics tools, if you have access to them). Given I don't have direct access to current YouTube data here, you'd need to gather this data and then I can help interpret and provide insights based on the information you provide."
   ]
  },
  {
   "cell_type": "code",
   "execution_count": 69,
   "id": "2cd4fba5",
   "metadata": {},
   "outputs": [],
   "source": [
    "veritasium_videos = videos_df[videos_df['channelId'] == 'xxx']  # Replace with Veritasium's exact channelId\n"
   ]
  },
  {
   "cell_type": "code",
   "execution_count": 70,
   "id": "1e71b461",
   "metadata": {},
   "outputs": [
    {
     "name": "stdout",
     "output_type": "stream",
     "text": [
      "                                                   title  \\\n",
      "45815  Why Are 96,000,000 Black Balls on This Reservoir?   \n",
      "45783             These are the asteroids to worry about   \n",
      "45813                            World's Lightest Solid!   \n",
      "45894                  Backspin Basketball Flies Off Dam   \n",
      "45811                I Waterproofed Myself With Aerogel!   \n",
      "45950                           World's Roundest Object!   \n",
      "45765  The Simplest Math Problem No One Can Solve - C...   \n",
      "45767          How a slinky falls in slow motion #shorts   \n",
      "45926                                Anti-Gravity Wheel?   \n",
      "45774        This Unstoppable Robot Could Save Your Life   \n",
      "45928              Can Silence Actually Drive You Crazy?   \n",
      "45812                       Can You Swim in Shade Balls?   \n",
      "45730            Falling ladders - why does this happen?   \n",
      "45749  The Man Who Accidentally Killed The Most Peopl...   \n",
      "45773              How An Infinite Hotel Ran Out Of Room   \n",
      "45772                            Math's Fundamental Flaw   \n",
      "45775           The Surprising Secret of Synchronization   \n",
      "45909               The Most Radioactive Places on Earth   \n",
      "45795         Parallel Worlds Probably Exist. Here’s Why   \n",
      "45735                     Inside The Navy's Indoor Ocean   \n",
      "\n",
      "                                             description  \n",
      "45815  I took a boat through 96 million black plastic...  \n",
      "45783  Stephen Hawking thought an asteroid impact pos...  \n",
      "45813  Aerogels are the world's lightest (least dense...  \n",
      "45894  How far would a basketball with backspin go?\\n...  \n",
      "45811  Aerogel has extraordinary properties but it ca...  \n",
      "45950  The world's roundest object helps solve the lo...  \n",
      "45765  The Collatz Conjecture is the simplest math pr...  \n",
      "45767  This is not just true of slinkies - if you rel...  \n",
      "45926  Explanation of gyro precession: http://bit.ly/...  \n",
      "45774  This robot has applications to archaeology, sp...  \n",
      "45928  *Watch with headphones on!\\nIs 45 minutes real...  \n",
      "45812  I bought 10,000 shade balls and tried to swim ...  \n",
      "45730  What happens when a chain ladder lands on a ta...  \n",
      "45749  One scientist caused two environmental disaste...  \n",
      "45773  If there's a hotel with infinite rooms, could ...  \n",
      "45772  Not everything that is true can be proven. Thi...  \n",
      "45775  How does order spontaneously arise out of chao...  \n",
      "45909  Who on Earth is exposed to the most ionizing r...  \n",
      "45795  The most elegant interpretation of quantum mec...  \n",
      "45735  The US Navy has an indoor ocean that can simul...  \n"
     ]
    }
   ],
   "source": [
    "top_veritasium_videos = veritasium_videos.sort_values(by='viewCount', ascending=False).head(20)  # Top 20 videos for instance\n",
    "print(top_veritasium_videos[['title', 'description']])\n"
   ]
  },
  {
   "cell_type": "code",
   "execution_count": 73,
   "id": "db5f8b4d",
   "metadata": {},
   "outputs": [
    {
     "name": "stdout",
     "output_type": "stream",
     "text": [
      "Average Duration: 8.666572769953051\n",
      "Median Duration: 6.6\n",
      "Mode Duration: 1.0\n"
     ]
    },
    {
     "name": "stderr",
     "output_type": "stream",
     "text": [
      "/tmp/ipykernel_697033/1720830912.py:1: SettingWithCopyWarning: \n",
      "A value is trying to be set on a copy of a slice from a DataFrame.\n",
      "Try using .loc[row_indexer,col_indexer] = value instead\n",
      "\n",
      "See the caveats in the documentation: https://pandas.pydata.org/pandas-docs/stable/user_guide/indexing.html#returning-a-view-versus-a-copy\n",
      "  veritasium_videos['duration_seconds'] = veritasium_videos['duration'].apply(iso8601_duration_to_seconds)\n",
      "/tmp/ipykernel_697033/1720830912.py:2: SettingWithCopyWarning: \n",
      "A value is trying to be set on a copy of a slice from a DataFrame.\n",
      "Try using .loc[row_indexer,col_indexer] = value instead\n",
      "\n",
      "See the caveats in the documentation: https://pandas.pydata.org/pandas-docs/stable/user_guide/indexing.html#returning-a-view-versus-a-copy\n",
      "  veritasium_videos['duration_minutes'] = veritasium_videos['duration_seconds'] / 60\n"
     ]
    }
   ],
   "source": [
    "\n",
    "veritasium_videos['duration_seconds'] = veritasium_videos['duration'].apply(iso8601_duration_to_seconds)\n",
    "veritasium_videos['duration_minutes'] = veritasium_videos['duration_seconds'] / 60\n",
    "\n",
    "average_duration = veritasium_videos['duration_minutes'].mean()\n",
    "median_duration = veritasium_videos['duration_minutes'].median()\n",
    "mode_duration = veritasium_videos['duration_minutes'].mode()[0]\n",
    "\n",
    "print(f\"Average Duration: {average_duration}\")\n",
    "print(f\"Median Duration: {median_duration}\")\n",
    "print(f\"Mode Duration: {mode_duration}\")\n"
   ]
  },
  {
   "cell_type": "code",
   "execution_count": 74,
   "id": "d334f51a",
   "metadata": {},
   "outputs": [
    {
     "name": "stdout",
     "output_type": "stream",
     "text": [
      "tags\n",
      "['veritasium', 'science', 'physics']                                                                                                                                                                                                                                                                                                                                                                                                                                                                                                                                     62\n",
      "['bungy jump', 'acceleration', 'free fall', 'bridge bungy', 'bungee', 'bungee jump']                                                                                                                                                                                                                                                                                                                                                                                                                                                                                      5\n",
      "['Higgs Boson Higgs', 'boson', 'standard model', 'Large Hadron Collider', 'particle', 'mass', 'fundamental', 'veritasium', 'science', 'physics', 'LHC']                                                                                                                                                                                                                                                                                                                                                                                                                   1\n",
      "['temperature', 'thermal', 'conductivity', 'heat', 'hot', 'cold', 'misconceptions', 'feel', 'experiment', 'veritasium', 'thermometer', 'warm']                                                                                                                                                                                                                                                                                                                                                                                                                            1\n",
      "['trees', 'transport water osmosis', 'pressure', 'photosynthesis', 'water', 'longest straw', '10m', '33 feet', 'gradient', 'height', 'tall', 'veritasium science physics']                                                                                                                                                                                                                                                                                                                                                                                                1\n",
      "['flame', 'electric', 'charged', 'ions', 'plasma', 'experiments', 'electric field', 'voltage', 'veritasium', 'science', 'physics']                                                                                                                                                                                                                                                                                                                                                                                                                                        1\n",
      "['solid nitrogen', 'vacuum cooling', 'boiling water', 'water', 'vacuum', 'reduce pressure', 'atmosphere', 'solid', 'liquid gas', 'boiling point', 'phase change', 'sublimation', 'CO2', 'room temperature', 'triple point', 'dry ice', 'experiments', 'veritasium', 'science', 'physics']                                                                                                                                                                                                                                                                                 1\n",
      "['weight', 'free fall', 'faster', 'fall', 'falling', 'freefall', 'heavier', 'lighter', 'acceleration', 'drop', 'dropped', 'experiments', 'veritasium']                                                                                                                                                                                                                                                                                                                                                                                                                    1\n",
      "['levitation', 'induction', 'induced', 'current', 'eddy currents', 'eddy current', 'electromagnetism', 'faraday', \"faraday's law\", 'michael faraday', 'alternating current', 'magnetism', 'magnetic repulsion', 'magnet', 'electromagnet', 'veritasium', 'experiments', 'science', 'physics', 'electricity']                                                                                                                                                                                                                                                              1\n",
      "['trees', 'tree', 'transport', 'water', 'transpiration', 'transpiration pull', 'tall', 'height', 'pressure', 'osmotic', 'osmosis', 'capillary', 'capillary action', 'surface tension', 'negative pressure', 'redwoods', 'cohesion', 'veritasium', 'hank green', 'minutephysics', 'henry', 'cgpgrey', 'periodic videos', 'poliakoff', 'science', 'physics', 'botany', 'biology']                                                                                                                                                                                           1\n",
      "['High jump', 'highjump', 'high', 'jump', 'fosbury flop', 'fosbury', 'straddle', 'western roll', 'scissors', 'Olympian', 'wing', 'veritasium', 'Invade London', 'record gold', 'creators invade london', 'Educational', 'London (City/Town/Village)', 'Jumping', 'Jumps']                                                                                                                                                                                                                                                                                                 1\n",
      "['veritasium', 'science', 'physics', 'faraday', \"faraday's law\", 'induction', 'generator', 'electric generator', 'first generator', 'electromagnetism', 'eddy currents', 'magnet', 'pipe', 'falling magnet', 'induced currents', 'dropping magnet', 'experiment', 'electromagnetic induction', 'michael faraday', 'electricity', 'generate electricity', 'electricity generation']                                                                                                                                                                                        1\n",
      "['veritasium', 'science', 'physics', 'fireball', 'fire', 'corn starch', 'corn flour', 'experiment', 'science experiment', 'surface area', 'reaction rate', 'combustion', 'reactant', 'Burn', 'Burning', 'Flame', 'butane torch', 'funnel', 'explosion', 'reaction', 'oxidation']                                                                                                                                                                                                                                                                                          1\n",
      "['veritasium', 'science', 'physics', 'space junk', 'cleanspace one', 'cleanspace 1', 'janitor satellite', 'space', 'space debris', 'collision', 'clean up', 'catalyst', 'satellite']                                                                                                                                                                                                                                                                                                                                                                                      1\n",
      "['veritasium', 'science', 'physics', 'fungi', 'fungus', 'radiation', 'radioactive', 'melanin', 'pigment', 'tan', 'mushroom cloud', 'Nuclear', 'nuclear radiation', 'Atomic', 'catalyst', 'abc catalyst']                                                                                                                                                                                                                                                                                                                                                                  1\n",
      "['veritasium', 'heisenberg', 'uncertainty principle', 'diffraction', 'laser', 'single slit', 'interference', 'delta x', 'delta p', 'hbar', 'quantum mechanics', 'photons', 'light', 'wave', 'particle', 'wave-particle', 'duality', 'wave-particle duality', 'measure', 'measurement', 'quantum', 'uncertainty']                                                                                                                                                                                                                                                          1\n",
      "['veritasium', 'science', 'physics', 'blue', 'blue morpho', 'butterfly', 'nanotechnology', 'security', 'interference', 'reflection', 'refraction', 'light', 'soap film', 'electromagnetic waves', 'color', 'colour', 'biomimicry', 'security devices', 'holograms']                                                                                                                                                                                                                                                                                                       1\n",
      "['Boomerang (Sports Equipment)', 'boomerang', 'throwing stick', 'lift', 'relative velocity', 'gyroschopc precession', 'invade london', 'record gold', 'creators invade london', 'veritasium', 'how ridiculous']                                                                                                                                                                                                                                                                                                                                                           1\n",
      "['sailboat', 'hunter', 'lowden', 'Olympian', 'team', 'canada', 'wing', 'lift', 'bernoulli', 'air', 'foil', 'drag', 'misconception', 'veritasiumInvade', 'London', 'Cre']                                                                                                                                                                                                                                                                                                                                                                                                  1\n",
      "['veritasium', 'waves', 'interference', 'diffraction', 'interference pattern', 'light', 'double slit', 'thomas young', \"Young's double slit experiment\", 'double slit experiment', 'water waves', 'newton', 'huygens', 'wave', 'particle', 'Beach', 'science literacy', 'misconceptions', 'physics', 'science', 'particles', 'photons', 'maxima', 'minima', 'constructive interference', 'destructive interference', 'sunlight', 'fringe pattern', 'fringes', 'colour', 'color', 'colors', 'colours', 'in phase', 'out of phase', 'phase', 'crest', 'trough', 'peak']     1\n",
      "Name: count, dtype: int64\n"
     ]
    }
   ],
   "source": [
    "all_tags = veritasium_videos['tags'].explode().value_counts()\n",
    "print(all_tags.head(20))  # Top 20 tags\n"
   ]
  },
  {
   "cell_type": "code",
   "execution_count": 76,
   "id": "5cd50d09",
   "metadata": {},
   "outputs": [
    {
     "name": "stdout",
     "output_type": "stream",
     "text": [
      "Average Duration of videos longer than 10 minutes: 17.44 minutes\n"
     ]
    }
   ],
   "source": [
    "# Filter videos that have a duration greater than 10 minutes\n",
    "long_videos = veritasium_videos[veritasium_videos['duration_minutes'] > 10]\n",
    "\n",
    "# Compute the average duration\n",
    "average_duration_long = long_videos['duration_minutes'].mean()\n",
    "\n",
    "print(f\"Average Duration of videos longer than 10 minutes: {average_duration_long:.2f} minutes\")\n"
   ]
  },
  {
   "cell_type": "markdown",
   "id": "bae50ddf",
   "metadata": {},
   "source": [
    "### Title Analysis: Use text analytics or topic modeling on the title column to identify common themes or keywords in titles of popular videos.\n"
   ]
  },
  {
   "cell_type": "markdown",
   "id": "de50aa88",
   "metadata": {},
   "source": [
    "One of the most used techniques for this is Latent Dirichlet Allocation (LDA).\n",
    "\n",
    "Here's a step-by-step approach:\n",
    "\n",
    "    Pre-processing:\n",
    "        Tokenize the titles into words.\n",
    "        Remove common stopwords.\n",
    "        Apply stemming or lemmatization to reduce words to their base form.\n",
    "    LDA Model Training:\n",
    "        Use the processed titles to train an LDA model.\n",
    "        Decide on the number of topics you want to extract (this can be tuned based on coherence scores or interpretability).\n",
    "    Topic Visualization:\n",
    "        Use the LDA model to assign topics to video titles.\n",
    "        Visualize the topics using tools like pyLDAvis.\n",
    "    Topic Analysis:\n",
    "        Check which topics are most prevalent in videos from channels with the highest subscriber counts to identify themes that might be contributing to their popularity."
   ]
  },
  {
   "cell_type": "code",
   "execution_count": 53,
   "id": "c900bd38",
   "metadata": {},
   "outputs": [],
   "source": [
    "\n",
    "# Define a function to preprocess titles\n",
    "def preprocess_title(title):\n",
    "    # Convert to lowercase\n",
    "    title = title.lower()\n",
    "    \n",
    "    # Remove punctuation\n",
    "    title = title.translate(str.maketrans('', '', string.punctuation))\n",
    "    \n",
    "    # Tokenization\n",
    "    tokens = title.split()\n",
    "    \n",
    "    # Remove stopwords\n",
    "    tokens = [word for word in tokens if word not in ENGLISH_STOP_WORDS]\n",
    "    \n",
    "    # Lemmatization\n",
    "    lemmatizer = WordNetLemmatizer()\n",
    "    tokens = [lemmatizer.lemmatize(token) for token in tokens]\n",
    "    \n",
    "    return tokens\n"
   ]
  },
  {
   "cell_type": "code",
   "execution_count": 60,
   "id": "14cca5b5",
   "metadata": {},
   "outputs": [
    {
     "data": {
      "text/plain": [
       "[(0, '0.503*\"klee\" + 0.493*\"irwin\" + 0.004*\"quantum\"'),\n",
       " (1, '0.334*\"klee\" + 0.334*\"irwin\" + 0.332*\"quantum\"'),\n",
       " (2, '0.501*\"klee\" + 0.496*\"irwin\" + 0.003*\"quantum\"'),\n",
       " (3, '0.338*\"quantum\" + 0.331*\"klee\" + 0.331*\"irwin\"'),\n",
       " (4, '0.504*\"klee\" + 0.492*\"irwin\" + 0.003*\"quantum\"'),\n",
       " (5, '0.334*\"klee\" + 0.334*\"irwin\" + 0.332*\"quantum\"'),\n",
       " (6, '0.979*\"quantum\" + 0.011*\"irwin\" + 0.011*\"klee\"'),\n",
       " (7, '0.979*\"quantum\" + 0.010*\"irwin\" + 0.010*\"klee\"')]"
      ]
     },
     "execution_count": 60,
     "metadata": {},
     "output_type": "execute_result"
    }
   ],
   "source": [
    "# Apply preprocessing to the titles in the dataset\n",
    "processed_titles = videos_df['title'].apply(preprocess_title).tolist()\n",
    "\n",
    "# Create a dictionary representation of the documents\n",
    "dictionary = Dictionary(processed_titles)\n",
    "\n",
    "# Filter out words that occur in less than 20 documents or more than 50% of the documents\n",
    "dictionary.filter_extremes(no_below=20, no_above=0.5)\n",
    "\n",
    "# Convert the processed titles to a bag-of-words representation\n",
    "corpus = [dictionary.doc2bow(title) for title in processed_titles]\n",
    "\n",
    "# Train the LDA model\n",
    "lda_model = LdaModel(corpus=corpus, id2word=dictionary, num_topics=8, passes=20, random_state=42)\n",
    "\n",
    "# Get the topics\n",
    "topics = lda_model.print_topics(num_words=20)\n",
    "topics"
   ]
  },
  {
   "cell_type": "code",
   "execution_count": 59,
   "id": "263d1d63",
   "metadata": {},
   "outputs": [
    {
     "name": "stderr",
     "output_type": "stream",
     "text": [
      "/usr/lib/python3/dist-packages/paramiko/transport.py:219: CryptographyDeprecationWarning: Blowfish has been deprecated\n",
      "  \"class\": algorithms.Blowfish,\n"
     ]
    }
   ],
   "source": []
  }
 ],
 "metadata": {
  "kernelspec": {
   "display_name": "Python 3 (ipykernel)",
   "language": "python",
   "name": "python3"
  },
  "language_info": {
   "codemirror_mode": {
    "name": "ipython",
    "version": 3
   },
   "file_extension": ".py",
   "mimetype": "text/x-python",
   "name": "python",
   "nbconvert_exporter": "python",
   "pygments_lexer": "ipython3",
   "version": "3.8.10"
  }
 },
 "nbformat": 4,
 "nbformat_minor": 5
}
